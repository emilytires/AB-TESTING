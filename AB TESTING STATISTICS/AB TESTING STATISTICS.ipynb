{
 "cells": [
  {
   "cell_type": "code",
   "execution_count": 6,
   "metadata": {},
   "outputs": [],
   "source": [
    "import numpy as np\n",
    "import pandas as pd\n",
    "import matplotlib.pyplot as plt\n",
    "import statsmodels.stats.api as sms\n",
    "\n",
    "pd.set_option('display.max_columns', None)\n",
    "pd.set_option('display.float_format', lambda x: '%.5f' % x)"
   ]
  },
  {
   "cell_type": "code",
   "execution_count": 7,
   "metadata": {},
   "outputs": [
    {
     "data": {
      "text/html": [
       "<div>\n",
       "<style scoped>\n",
       "    .dataframe tbody tr th:only-of-type {\n",
       "        vertical-align: middle;\n",
       "    }\n",
       "\n",
       "    .dataframe tbody tr th {\n",
       "        vertical-align: top;\n",
       "    }\n",
       "\n",
       "    .dataframe thead th {\n",
       "        text-align: right;\n",
       "    }\n",
       "</style>\n",
       "<table border=\"1\" class=\"dataframe\">\n",
       "  <thead>\n",
       "    <tr style=\"text-align: right;\">\n",
       "      <th></th>\n",
       "      <th>Impression</th>\n",
       "      <th>Click</th>\n",
       "      <th>Purchase</th>\n",
       "      <th>Earning</th>\n",
       "      <th>Group</th>\n",
       "    </tr>\n",
       "  </thead>\n",
       "  <tbody>\n",
       "    <tr>\n",
       "      <th>0</th>\n",
       "      <td>82529.45927</td>\n",
       "      <td>6090.07732</td>\n",
       "      <td>665.21125</td>\n",
       "      <td>2311.27714</td>\n",
       "      <td>Maximum Bidding</td>\n",
       "    </tr>\n",
       "    <tr>\n",
       "      <th>1</th>\n",
       "      <td>98050.45193</td>\n",
       "      <td>3382.86179</td>\n",
       "      <td>315.08489</td>\n",
       "      <td>1742.80686</td>\n",
       "      <td>Maximum Bidding</td>\n",
       "    </tr>\n",
       "    <tr>\n",
       "      <th>2</th>\n",
       "      <td>82696.02355</td>\n",
       "      <td>4167.96575</td>\n",
       "      <td>458.08374</td>\n",
       "      <td>1797.82745</td>\n",
       "      <td>Maximum Bidding</td>\n",
       "    </tr>\n",
       "    <tr>\n",
       "      <th>3</th>\n",
       "      <td>109914.40040</td>\n",
       "      <td>4910.88224</td>\n",
       "      <td>487.09077</td>\n",
       "      <td>1696.22918</td>\n",
       "      <td>Maximum Bidding</td>\n",
       "    </tr>\n",
       "    <tr>\n",
       "      <th>4</th>\n",
       "      <td>108457.76263</td>\n",
       "      <td>5987.65581</td>\n",
       "      <td>441.03405</td>\n",
       "      <td>1543.72018</td>\n",
       "      <td>Maximum Bidding</td>\n",
       "    </tr>\n",
       "  </tbody>\n",
       "</table>\n",
       "</div>"
      ],
      "text/plain": [
       "    Impression      Click  Purchase    Earning            Group\n",
       "0  82529.45927 6090.07732 665.21125 2311.27714  Maximum Bidding\n",
       "1  98050.45193 3382.86179 315.08489 1742.80686  Maximum Bidding\n",
       "2  82696.02355 4167.96575 458.08374 1797.82745  Maximum Bidding\n",
       "3 109914.40040 4910.88224 487.09077 1696.22918  Maximum Bidding\n",
       "4 108457.76263 5987.65581 441.03405 1543.72018  Maximum Bidding"
      ]
     },
     "execution_count": 7,
     "metadata": {},
     "output_type": "execute_result"
    }
   ],
   "source": [
    "df_control = pd.read_excel(\"ab_testing_data.xlsx\", sheet_name=\"Control Group\")\n",
    "df_control[\"Group\"] = \"Maximum Bidding\"\n",
    "df_control.head()"
   ]
  },
  {
   "cell_type": "code",
   "execution_count": 12,
   "metadata": {},
   "outputs": [
    {
     "name": "stdout",
     "output_type": "stream",
     "text": [
      "Shape\n",
      " (40, 5)\n",
      "########################################################\n",
      "Describe\n",
      "               count         mean         std         min         25%  \\\n",
      "Impression 40.00000 101711.44907 20302.15786 45475.94296 85726.69035   \n",
      "Click      40.00000   5100.65737  1329.98550  2189.75316  4124.30413   \n",
      "Purchase   40.00000    550.89406   134.10820   267.02894   470.09553   \n",
      "Earning    40.00000   1908.56830   302.91778  1253.98952  1685.84720   \n",
      "\n",
      "                   50%          75%          max  \n",
      "Impression 99790.70108 115212.81654 147539.33633  \n",
      "Click       5001.22060   5923.80360   7959.12507  \n",
      "Purchase     531.20631    637.95709    801.79502  \n",
      "Earning     1975.16052   2119.80278   2497.29522  \n",
      "########################################################\n",
      "Confidence Internal of Purchase\n",
      " (508.0041754264924, 593.7839421139709)\n"
     ]
    }
   ],
   "source": [
    "def check_df(dataframe):\n",
    "    print(\"Shape\\n\", dataframe.shape)\n",
    "    print(\"########################################################\")\n",
    "    print(\"Describe\\n\", dataframe.describe().T)\n",
    "    print(\"########################################################\")\n",
    "    print(\"Confidence Internal of Purchase\\n\", sms.DescrStatsW(dataframe[\"Purchase\"]).tconfint_mean())\n",
    "check_df(df_control)"
   ]
  },
  {
   "cell_type": "code",
   "execution_count": 13,
   "metadata": {},
   "outputs": [
    {
     "data": {
      "text/html": [
       "<div>\n",
       "<style scoped>\n",
       "    .dataframe tbody tr th:only-of-type {\n",
       "        vertical-align: middle;\n",
       "    }\n",
       "\n",
       "    .dataframe tbody tr th {\n",
       "        vertical-align: top;\n",
       "    }\n",
       "\n",
       "    .dataframe thead th {\n",
       "        text-align: right;\n",
       "    }\n",
       "</style>\n",
       "<table border=\"1\" class=\"dataframe\">\n",
       "  <thead>\n",
       "    <tr style=\"text-align: right;\">\n",
       "      <th></th>\n",
       "      <th>Impression</th>\n",
       "      <th>Click</th>\n",
       "      <th>Purchase</th>\n",
       "      <th>Earning</th>\n",
       "      <th>Group</th>\n",
       "    </tr>\n",
       "  </thead>\n",
       "  <tbody>\n",
       "    <tr>\n",
       "      <th>0</th>\n",
       "      <td>120103.50380</td>\n",
       "      <td>3216.54796</td>\n",
       "      <td>702.16035</td>\n",
       "      <td>1939.61124</td>\n",
       "      <td>Average Bidding</td>\n",
       "    </tr>\n",
       "    <tr>\n",
       "      <th>1</th>\n",
       "      <td>134775.94336</td>\n",
       "      <td>3635.08242</td>\n",
       "      <td>834.05429</td>\n",
       "      <td>2929.40582</td>\n",
       "      <td>Average Bidding</td>\n",
       "    </tr>\n",
       "    <tr>\n",
       "      <th>2</th>\n",
       "      <td>107806.62079</td>\n",
       "      <td>3057.14356</td>\n",
       "      <td>422.93426</td>\n",
       "      <td>2526.24488</td>\n",
       "      <td>Average Bidding</td>\n",
       "    </tr>\n",
       "    <tr>\n",
       "      <th>3</th>\n",
       "      <td>116445.27553</td>\n",
       "      <td>4650.47391</td>\n",
       "      <td>429.03353</td>\n",
       "      <td>2281.42857</td>\n",
       "      <td>Average Bidding</td>\n",
       "    </tr>\n",
       "    <tr>\n",
       "      <th>4</th>\n",
       "      <td>145082.51684</td>\n",
       "      <td>5201.38772</td>\n",
       "      <td>749.86044</td>\n",
       "      <td>2781.69752</td>\n",
       "      <td>Average Bidding</td>\n",
       "    </tr>\n",
       "  </tbody>\n",
       "</table>\n",
       "</div>"
      ],
      "text/plain": [
       "    Impression      Click  Purchase    Earning            Group\n",
       "0 120103.50380 3216.54796 702.16035 1939.61124  Average Bidding\n",
       "1 134775.94336 3635.08242 834.05429 2929.40582  Average Bidding\n",
       "2 107806.62079 3057.14356 422.93426 2526.24488  Average Bidding\n",
       "3 116445.27553 4650.47391 429.03353 2281.42857  Average Bidding\n",
       "4 145082.51684 5201.38772 749.86044 2781.69752  Average Bidding"
      ]
     },
     "execution_count": 13,
     "metadata": {},
     "output_type": "execute_result"
    }
   ],
   "source": [
    "df_test = pd.read_excel(\"ab_testing_data.xlsx\", sheet_name=\"Test Group\")\n",
    "df_test[\"Group\"] = \"Average Bidding\"\n",
    "df_test.head()"
   ]
  },
  {
   "cell_type": "code",
   "execution_count": 15,
   "metadata": {},
   "outputs": [
    {
     "name": "stdout",
     "output_type": "stream",
     "text": [
      "Shape\n",
      " (40, 5)\n",
      "########################################################\n",
      "Describe\n",
      "               count         mean         std         min          25%  \\\n",
      "Impression 40.00000 120512.41176 18807.44871 79033.83492 112691.97077   \n",
      "Click      40.00000   3967.54976   923.09507  1836.62986   3376.81902   \n",
      "Purchase   40.00000    582.10610   161.15251   311.62952    444.62683   \n",
      "Earning    40.00000   2514.89073   282.73085  1939.61124   2280.53743   \n",
      "\n",
      "                    50%          75%          max  \n",
      "Impression 119291.30077 132050.57893 158605.92048  \n",
      "Click        3931.35980   4660.49791   6019.69508  \n",
      "Purchase      551.35573    699.86236    889.91046  \n",
      "Earning      2544.66611   2761.54540   3171.48971  \n",
      "########################################################\n",
      "Confidence Internal of Purchase\n",
      " (530.5670226990063, 633.645170597929)\n"
     ]
    }
   ],
   "source": [
    "check_df(df_test)"
   ]
  },
  {
   "cell_type": "code",
   "execution_count": 16,
   "metadata": {},
   "outputs": [
    {
     "data": {
      "text/html": [
       "<div>\n",
       "<style scoped>\n",
       "    .dataframe tbody tr th:only-of-type {\n",
       "        vertical-align: middle;\n",
       "    }\n",
       "\n",
       "    .dataframe tbody tr th {\n",
       "        vertical-align: top;\n",
       "    }\n",
       "\n",
       "    .dataframe thead th {\n",
       "        text-align: right;\n",
       "    }\n",
       "</style>\n",
       "<table border=\"1\" class=\"dataframe\">\n",
       "  <thead>\n",
       "    <tr style=\"text-align: right;\">\n",
       "      <th></th>\n",
       "      <th>Purchase</th>\n",
       "    </tr>\n",
       "    <tr>\n",
       "      <th>Group</th>\n",
       "      <th></th>\n",
       "    </tr>\n",
       "  </thead>\n",
       "  <tbody>\n",
       "    <tr>\n",
       "      <th>Average Bidding</th>\n",
       "      <td>582.10610</td>\n",
       "    </tr>\n",
       "    <tr>\n",
       "      <th>Maximum Bidding</th>\n",
       "      <td>550.89406</td>\n",
       "    </tr>\n",
       "  </tbody>\n",
       "</table>\n",
       "</div>"
      ],
      "text/plain": [
       "                 Purchase\n",
       "Group                    \n",
       "Average Bidding 582.10610\n",
       "Maximum Bidding 550.89406"
      ]
     },
     "execution_count": 16,
     "metadata": {},
     "output_type": "execute_result"
    }
   ],
   "source": [
    "df_final = pd.concat ([df_control, df_test])\n",
    "df_final.groupby(\"Group\").agg({\"Purchase\": \"mean\"})"
   ]
  },
  {
   "cell_type": "markdown",
   "metadata": {},
   "source": [
    "### 1. Assumpiton Control\n",
    "\n",
    "* 1.1 Normality Assumption\n",
    "* 1.2 Homogeneity of Variance"
   ]
  },
  {
   "cell_type": "code",
   "execution_count": 18,
   "metadata": {},
   "outputs": [
    {
     "name": "stdout",
     "output_type": "stream",
     "text": [
      "Average Bidding Group - Test Statistic = 0.9589, Average Bidding Group -  p-value = 0.1541\n",
      "Maximum Bidding Group - Test Statistic = 0.9773, Maximum Bidding Group - p-value = 0.5891\n"
     ]
    }
   ],
   "source": [
    "############################\n",
    "# 1.1 Normality Assumption\n",
    "############################\n",
    "\n",
    "from scipy.stats import shapiro\n",
    "\n",
    "test_statistic, pvalue = shapiro(df_final.loc[df_final[\"Group\"] == \"Average Bidding\", \"Purchase\"])\n",
    "print('Average Bidding Group - Test Statistic = %.4f, Average Bidding Group -  p-value = %.4f' % (test_statistic, pvalue))\n",
    "\n",
    "test_statistic, pvalue = shapiro(df_final.loc[df_final[\"Group\"] == \"Maximum Bidding\", \"Purchase\"])\n",
    "print('Maximum Bidding Group - Test Statistic = %.4f, Maximum Bidding Group - p-value = %.4f' % (test_statistic, pvalue))\n",
    "\n",
    "# p-value < 0.05'ten HO reject.\n",
    "# p-value > 0.05 H0 does not reject.\n",
    "\n",
    "# H0 is accepted for both campaigns (p> 0.05).\n",
    "# The number of purchases variable for both campaign types conforms to the normal distribution."
   ]
  },
  {
   "cell_type": "code",
   "execution_count": 19,
   "metadata": {},
   "outputs": [
    {
     "data": {
      "text/plain": [
       "LeveneResult(statistic=2.6392694728747363, pvalue=0.10828588271874791)"
      ]
     },
     "execution_count": 19,
     "metadata": {},
     "output_type": "execute_result"
    }
   ],
   "source": [
    "############################\n",
    "# 1.2 Homogeneity of Variance Assumption\n",
    "############################\n",
    "\n",
    "# H0: variances are homogeneous (no significant difference.)\n",
    "# H1: variances are not homogeneous (significant difference.)\n",
    "\n",
    "from scipy import stats\n",
    "stats.levene(df_final.loc[df_final[\"Group\"] == \"Average Bidding\", \"Purchase\"],\n",
    "             df_final.loc[df_final[\"Group\"] == \"Maximum Bidding\", \"Purchase\"])\n",
    "\n",
    "\n",
    "# p-value < 0.05'ten HO reject.\n",
    "# p-value > 0.05 H0 does not reject.\n",
    "\n",
    "# H0 is accepted (p> 0.05). The variance of the groups is equal.\n",
    "# The t-test can be used because it provides both a normal distribution and variance homogeneity."
   ]
  },
  {
   "cell_type": "markdown",
   "metadata": {},
   "source": [
    "### 2. Application of the Hypothesis"
   ]
  },
  {
   "cell_type": "code",
   "execution_count": 20,
   "metadata": {},
   "outputs": [
    {
     "name": "stdout",
     "output_type": "stream",
     "text": [
      "Test Statistic = 0.9416, p-value = 0.3493\n"
     ]
    }
   ],
   "source": [
    "# H0: M1 = M2 (... There is no statistically significant difference between the average purchases\n",
    "#of the \"Maximum Bidding\" campaign and the average purchases of the \"Average bidding\" campaign.)\n",
    "\n",
    "# H1: M1! = M2 (... exists)\n",
    "\n",
    "test_statistic, pvalue = stats.ttest_ind(df_final.loc[df_final[\"Group\"] == \"Average Bidding\", \"Purchase\"],\n",
    "                                        df_final.loc[df_final[\"Group\"] == \"Maximum Bidding\", \"Purchase\"],\n",
    "                                           equal_var=True)\n",
    "\n",
    "\n",
    "print('Test Statistic = %.4f, p-value = %.4f' % (test_statistic, pvalue))\n",
    "\n",
    "# p-value <  0.05 HO reject.\n",
    "# p-value >  0.05 H0 does not reject.\n",
    "# H0 is accepted. There is no statistically significant difference between the average purchase of the two groups."
   ]
  },
  {
   "cell_type": "markdown",
   "metadata": {},
   "source": [
    "The test should be tested on larger samples.The 40 observations are very close to the minimum sample size of 30."
   ]
  },
  {
   "cell_type": "code",
   "execution_count": 22,
   "metadata": {},
   "outputs": [
    {
     "data": {
      "text/plain": [
       "[]"
      ]
     },
     "execution_count": 22,
     "metadata": {},
     "output_type": "execute_result"
    },
    {
     "data": {
      "image/png": "[encoded data removed]",
      "text/plain": [
       "<Figure size 432x288 with 1 Axes>"
      ]
     },
     "metadata": {
      "needs_background": "light"
     },
     "output_type": "display_data"
    }
   ],
   "source": [
    "import seaborn as sns\n",
    "sns.boxplot(x=\"Group\", y=\"Purchase\", hue=\"Group\", data=df_final)\n",
    "plt.plot()"
   ]
  },
  {
   "cell_type": "code",
   "execution_count": 23,
   "metadata": {},
   "outputs": [
    {
     "data": {
      "text/html": [
       "<div>\n",
       "<style scoped>\n",
       "    .dataframe tbody tr th:only-of-type {\n",
       "        vertical-align: middle;\n",
       "    }\n",
       "\n",
       "    .dataframe tbody tr th {\n",
       "        vertical-align: top;\n",
       "    }\n",
       "\n",
       "    .dataframe thead th {\n",
       "        text-align: right;\n",
       "    }\n",
       "</style>\n",
       "<table border=\"1\" class=\"dataframe\">\n",
       "  <thead>\n",
       "    <tr style=\"text-align: right;\">\n",
       "      <th></th>\n",
       "      <th>Group</th>\n",
       "      <th>Purchase</th>\n",
       "      <th>Impression</th>\n",
       "      <th>Click</th>\n",
       "      <th>Earning</th>\n",
       "    </tr>\n",
       "  </thead>\n",
       "  <tbody>\n",
       "    <tr>\n",
       "      <th>0</th>\n",
       "      <td>Average Bidding</td>\n",
       "      <td>582.10610</td>\n",
       "      <td>120512.41176</td>\n",
       "      <td>3967.54976</td>\n",
       "      <td>2514.89073</td>\n",
       "    </tr>\n",
       "    <tr>\n",
       "      <th>1</th>\n",
       "      <td>Maximum Bidding</td>\n",
       "      <td>550.89406</td>\n",
       "      <td>101711.44907</td>\n",
       "      <td>5100.65737</td>\n",
       "      <td>1908.56830</td>\n",
       "    </tr>\n",
       "  </tbody>\n",
       "</table>\n",
       "</div>"
      ],
      "text/plain": [
       "             Group  Purchase   Impression      Click    Earning\n",
       "0  Average Bidding 582.10610 120512.41176 3967.54976 2514.89073\n",
       "1  Maximum Bidding 550.89406 101711.44907 5100.65737 1908.56830"
      ]
     },
     "execution_count": 23,
     "metadata": {},
     "output_type": "execute_result"
    }
   ],
   "source": [
    "df_final.groupby(\"Group\").agg({\"Purchase\":\"mean\",\"Impression\":\"mean\",\"Click\":\"mean\", \"Earning\":\"mean\" }).reset_index()"
   ]
  }
 ],
 "metadata": {
  "kernelspec": {
   "display_name": "Python 3",
   "language": "python",
   "name": "python3"
  },
  "language_info": {
   "codemirror_mode": {
    "name": "ipython",
    "version": 3
   },
   "file_extension": ".py",
   "mimetype": "text/x-python",
   "name": "python",
   "nbconvert_exporter": "python",
   "pygments_lexer": "ipython3",
   "version": "3.8.5"
  }
 },
 "nbformat": 4,
 "nbformat_minor": 4
}
